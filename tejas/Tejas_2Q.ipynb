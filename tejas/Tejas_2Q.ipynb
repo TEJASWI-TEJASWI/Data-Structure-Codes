{
 "cells": [
  {
   "cell_type": "code",
   "execution_count": 5,
   "metadata": {},
   "outputs": [
    {
     "name": "stdout",
     "output_type": "stream",
     "text": [
      "Number of 5-digit binary strings without any consecutive 1's are 13\n",
      "00000 00001 00010 00100 00101 01000 01001 01010 10000 10001 10010 10100 10101 "
     ]
    }
   ],
   "source": [
    "# print all n-digit binary strings without any consecutive 1's\n",
    "def countStrings(n, out=\"\", last_digit=0):\n",
    "\n",
    "\t# if number becomes N-digit, print it\n",
    "\tif n == 0:\n",
    "\t\tprint(out, end=' ')\n",
    "\t\treturn\n",
    "\n",
    "\t# append 0 to the result and recur with one less digit\n",
    "\tcountStrings(n - 1, out + '0', 0)\n",
    "\n",
    "\t# append 1 to the result and recur with one less digit\n",
    "\t# only if last digit is 0\n",
    "\tif last_digit == 0:\n",
    "\t\tcountStrings(n - 1, out + '1', 1)\n",
    "\n",
    "\n",
    "def num_countStrings(n, lastDigit=0):\n",
    "\n",
    "\t# base case\n",
    "\tif n == 0:\n",
    "\t\treturn 0\n",
    "\n",
    "\t# if only one digit is left\n",
    "\tif n == 1:\n",
    "\t\treturn 1 if (lastDigit == 1) else 2\n",
    "\n",
    "\t# if last digit is 0, we can have both 0 and 1 at current position\n",
    "\tif lastDigit == 0:\n",
    "\t\treturn num_countStrings(n - 1, 0) + num_countStrings(n - 1, 1)\n",
    "\n",
    "\t# if last digit is 1, we can have only 0 at current position\n",
    "\telse:\n",
    "\t\treturn num_countStrings(n - 1, 0)\n",
    "\n",
    "\n",
    "if __name__ == '__main__':\n",
    "\n",
    "\t# given number of digits\n",
    "\tn = 5\n",
    "\n",
    "\tprint(f\"Number of {n}-digit binary strings without any consecutive 1's are\",\n",
    "\t\t  num_countStrings(n))\n",
    "\tcountStrings(n)\n"
   ]
  },
  {
   "cell_type": "code",
   "execution_count": null,
   "metadata": {},
   "outputs": [],
   "source": []
  }
 ],
 "metadata": {
  "kernelspec": {
   "display_name": "Python 3",
   "language": "python",
   "name": "python3"
  },
  "language_info": {
   "codemirror_mode": {
    "name": "ipython",
    "version": 3
   },
   "file_extension": ".py",
   "mimetype": "text/x-python",
   "name": "python",
   "nbconvert_exporter": "python",
   "pygments_lexer": "ipython3",
   "version": "3.7.4"
  }
 },
 "nbformat": 4,
 "nbformat_minor": 4
}
