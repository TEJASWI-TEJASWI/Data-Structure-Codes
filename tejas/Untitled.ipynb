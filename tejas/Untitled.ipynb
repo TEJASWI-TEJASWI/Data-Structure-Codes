{
 "cells": [
  {
   "cell_type": "code",
   "execution_count": null,
   "metadata": {},
   "outputs": [],
   "source": [
    "# Algorithm:There will be 2n numbers with number of bits from 1 to n and so we iterate through all of the 2n numbers available.\n",
    "# Now we will check for every number if it contains consecutive set bits or not. So to do we check, we do bitwise and of current number i and left-shifted i. If the bitwise and contains a non-zero bit (or its value is non-zero), then the given number contains consecutive set bits.\n",
    "# This gives a Time Complexity of: O(2N) and Auxiliary Space: O(1)\n",
    "\n",
    "##=======================================================\n",
    "# print all n-digit binary strings without any consecutive 1's\n",
    "def countStrings(n, out=\"\", last_digit=0):\n",
    "\n",
    "\t# if number becomes N-digit, print it\n",
    "\tif n == 0:\n",
    "\t\tprint(out, end=' ')\n",
    "\t\treturn\n",
    "\n",
    "\t# append 0 to the result and recur with one less digit\n",
    "\tcountStrings(n - 1, out + '0', 0)\n",
    "\n",
    "\t# append 1 to the result and recur with one less digit\n",
    "\t# only if last digit is 0\n",
    "\tif last_digit == 0:\n",
    "\t\tcountStrings(n - 1, out + '1', 1)\n",
    "\n",
    "\n",
    "def num_countStrings(n, lastDigit=0):\n",
    "\n",
    "\t# base case\n",
    "\tif n == 0:\n",
    "\t\treturn 0\n",
    "\n",
    "\t# if only one digit is left\n",
    "\tif n == 1:\n",
    "\t\treturn 1 if (lastDigit == 1) else 2\n",
    "\n",
    "\t# if last digit is 0, we can have both 0 and 1 at current position\n",
    "\tif lastDigit == 0:\n",
    "\t\treturn num_countStrings(n - 1, 0) + num_countStrings(n - 1, 1)\n",
    "\n",
    "\t# if last digit is 1, we can have only 0 at current position\n",
    "\telse:\n",
    "\t\treturn num_countStrings(n - 1, 0)\n",
    "\n",
    "\n",
    "if __name__ == '__main__':\n",
    "\n",
    "\t# given number of digits\n",
    "\tn = int(input(\"Enter a number:\"))\n",
    "\n",
    "\tprint(f\"Number of {n}-digit binary strings without any consecutive 1's are\",\n",
    "\t\t  num_countStrings(n))\n",
    "\tcountStrings(n)\n"
   ]
  },
  {
   "cell_type": "code",
   "execution_count": null,
   "metadata": {},
   "outputs": [],
   "source": []
  }
 ],
 "metadata": {
  "kernelspec": {
   "display_name": "Python 3",
   "language": "python",
   "name": "python3"
  },
  "language_info": {
   "codemirror_mode": {
    "name": "ipython",
    "version": 3
   },
   "file_extension": ".py",
   "mimetype": "text/x-python",
   "name": "python",
   "nbconvert_exporter": "python",
   "pygments_lexer": "ipython3",
   "version": "3.7.4"
  }
 },
 "nbformat": 4,
 "nbformat_minor": 4
}
